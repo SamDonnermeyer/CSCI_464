{
 "cells": [
  {
   "cell_type": "code",
   "execution_count": 1,
   "id": "52d722cd-0f23-4b44-b1f7-701d1bc981c7",
   "metadata": {},
   "outputs": [],
   "source": [
    "### Import Modules ###\n",
    "import pandas as pd\n",
    "import seaborn as sns\n",
    "import numpy as np\n",
    "import matplotlib.pyplot as plt\n",
    "from sklearn.model_selection import train_test_split"
   ]
  },
  {
   "cell_type": "code",
   "execution_count": 28,
   "id": "c51c7c22-a7b4-4bfe-bbc8-3f2e41aaab99",
   "metadata": {},
   "outputs": [
    {
     "name": "stdout",
     "output_type": "stream",
     "text": [
      "(1310, 11)\n"
     ]
    },
    {
     "data": {
      "text/html": [
       "<div>\n",
       "<style scoped>\n",
       "    .dataframe tbody tr th:only-of-type {\n",
       "        vertical-align: middle;\n",
       "    }\n",
       "\n",
       "    .dataframe tbody tr th {\n",
       "        vertical-align: top;\n",
       "    }\n",
       "\n",
       "    .dataframe thead th {\n",
       "        text-align: right;\n",
       "    }\n",
       "</style>\n",
       "<table border=\"1\" class=\"dataframe\">\n",
       "  <thead>\n",
       "    <tr style=\"text-align: right;\">\n",
       "      <th></th>\n",
       "      <th>pclass</th>\n",
       "      <th>survived</th>\n",
       "      <th>name</th>\n",
       "      <th>sex</th>\n",
       "      <th>age</th>\n",
       "      <th>sibsp</th>\n",
       "      <th>parch</th>\n",
       "      <th>ticket</th>\n",
       "      <th>fare</th>\n",
       "      <th>cabin</th>\n",
       "      <th>embarked</th>\n",
       "    </tr>\n",
       "  </thead>\n",
       "  <tbody>\n",
       "    <tr>\n",
       "      <th>0</th>\n",
       "      <td>1</td>\n",
       "      <td>1.0</td>\n",
       "      <td>Allen, Miss. Elisabeth Walton</td>\n",
       "      <td>female</td>\n",
       "      <td>29.0000</td>\n",
       "      <td>0.0</td>\n",
       "      <td>0.0</td>\n",
       "      <td>24160</td>\n",
       "      <td>211.3375</td>\n",
       "      <td>B5</td>\n",
       "      <td>S</td>\n",
       "    </tr>\n",
       "    <tr>\n",
       "      <th>1</th>\n",
       "      <td>1</td>\n",
       "      <td>1.0</td>\n",
       "      <td>Allison, Master. Hudson Trevor</td>\n",
       "      <td>male</td>\n",
       "      <td>0.9167</td>\n",
       "      <td>1.0</td>\n",
       "      <td>2.0</td>\n",
       "      <td>113781</td>\n",
       "      <td>151.5500</td>\n",
       "      <td>C22 C26</td>\n",
       "      <td>S</td>\n",
       "    </tr>\n",
       "  </tbody>\n",
       "</table>\n",
       "</div>"
      ],
      "text/plain": [
       "  pclass  survived                            name     sex      age  sibsp  \\\n",
       "0      1       1.0   Allen, Miss. Elisabeth Walton  female  29.0000    0.0   \n",
       "1      1       1.0  Allison, Master. Hudson Trevor    male   0.9167    1.0   \n",
       "\n",
       "   parch  ticket      fare    cabin embarked  \n",
       "0    0.0   24160  211.3375       B5        S  \n",
       "1    2.0  113781  151.5500  C22 C26        S  "
      ]
     },
     "execution_count": 28,
     "metadata": {},
     "output_type": "execute_result"
    }
   ],
   "source": [
    "## Obtained Data From: \n",
    "# https://www.kaggle.com/zlatankr/titanic-random-forest-82-78/data\n",
    "\n",
    "# Read in Data #\n",
    "df_titanic = pd.read_csv(\"titanic.csv\", dtype=\n",
    "                        {'pclass': 'category', #Passenger Class - 1-3\n",
    "                         'survived': float, # Categorical - Survived Y/N\n",
    "                         'name': str, # Name of Passenger\n",
    "                         'sex': 'category', # Sex of Passenger\n",
    "                         'age': float, # Age of Passenger\n",
    "                         'sibsp': float, # Num of Siblings on Board\n",
    "                         'parch': float, # Num of Parents on Board\n",
    "                         'ticket': str, # Ticket Num\n",
    "                         'fare': float, # Passenger Fare\n",
    "                         'cabin': str, # Passenger's Cabin\n",
    "                         'embarked': 'category', # Location of Embarkment\n",
    "                         'boat': 'category', # Lifeboat (if survived)\n",
    "                         'body': float, # Body # if not survived\n",
    "                        })\n",
    "# List to Drop\n",
    "to_drop = ['boat', # Determination of survived/not\n",
    "           'body', # Determination of survived/not\n",
    "           'home.dest', # N/A\n",
    "          ]\n",
    "\n",
    "# Drop Columns\n",
    "df_titanic.drop(columns=to_drop, inplace=True) \n",
    "\n",
    "# Show df\n",
    "print(df_titanic.shape)\n",
    "df_titanic.head(2)"
   ]
  },
  {
   "cell_type": "code",
   "execution_count": 29,
   "id": "1e9d48c5-1ffa-420e-8ea9-fd35f3cca1e0",
   "metadata": {},
   "outputs": [
    {
     "data": {
      "text/plain": [
       "pclass      category\n",
       "survived     float64\n",
       "name          object\n",
       "sex         category\n",
       "age          float64\n",
       "sibsp        float64\n",
       "parch        float64\n",
       "ticket        object\n",
       "fare         float64\n",
       "cabin         object\n",
       "embarked    category\n",
       "dtype: object"
      ]
     },
     "execution_count": 29,
     "metadata": {},
     "output_type": "execute_result"
    }
   ],
   "source": [
    "df_titanic.dtypes"
   ]
  },
  {
   "cell_type": "code",
   "execution_count": 30,
   "id": "9c737133-8d8e-4c32-9f6b-b4c6ed0e9d32",
   "metadata": {},
   "outputs": [
    {
     "data": {
      "text/plain": [
       "[Text(0.5, 0, 'Survived'), Text(0, 0.5, 'Count')]"
      ]
     },
     "execution_count": 30,
     "metadata": {},
     "output_type": "execute_result"
    },
    {
     "data": {
      "image/png": "[encoded data removed]",
      "text/plain": [
       "<Figure size 432x288 with 1 Axes>"
      ]
     },
     "metadata": {},
     "output_type": "display_data"
    }
   ],
   "source": [
    "### EDA of Total Data ###\n",
    "style = {'figure.figsize': (6, 4), \n",
    "         \"axes.facecolor\": \"white\", \n",
    "         \"font.family\": \"Times New Roman\",\n",
    "         \"font.size\": 14\n",
    "}\n",
    "\n",
    "plt.rcParams.update(style)\n",
    "sns.set_style(\"ticks\")\n",
    "sns.despine()\n",
    "\n",
    "# Count Plot of Classes # \n",
    "count_plot = sns.countplot(x=df_titanic.survived, color = \"#01295F\")\n",
    "count_plot.set(xlabel=\"Survived\", ylabel=\"Count\")"
   ]
  },
  {
   "cell_type": "code",
   "execution_count": 31,
   "id": "ef33bb90-556d-4e88-8780-97b7252cebf9",
   "metadata": {},
   "outputs": [
    {
     "name": "stdout",
     "output_type": "stream",
     "text": [
      "Train Size:\n",
      " (1048, 11)\n",
      "Test Size:\n",
      " (262, 11)\n"
     ]
    }
   ],
   "source": [
    "### Split into Train/Test ###\n",
    "train, test = train_test_split(df_titanic, test_size=.2, random_state=42, shuffle=True)\n",
    "\n",
    "# Print out shape of dfs \n",
    "print(\"Train Size:\\n {}\".format(train.shape))\n",
    "print(\"Test Size:\\n {}\".format(test.shape))\n",
    "\n",
    "data_types_dict = {'name': str}\n",
    "\n",
    "train = train.astype(data_types_dict)\n",
    "#train['name'] = train['name'].astype(str)"
   ]
  },
  {
   "cell_type": "code",
   "execution_count": 32,
   "id": "7c148665-340f-4ae8-b8ac-971ff0439c18",
   "metadata": {},
   "outputs": [
    {
     "name": "stdout",
     "output_type": "stream",
     "text": [
      "<class 'pandas.core.frame.DataFrame'>\n",
      "Int64Index: 1048 entries, 199 to 1126\n",
      "Data columns (total 11 columns):\n",
      " #   Column    Non-Null Count  Dtype   \n",
      "---  ------    --------------  -----   \n",
      " 0   pclass    1047 non-null   category\n",
      " 1   survived  1047 non-null   float64 \n",
      " 2   name      1048 non-null   object  \n",
      " 3   sex       1047 non-null   category\n",
      " 4   age       835 non-null    float64 \n",
      " 5   sibsp     1047 non-null   float64 \n",
      " 6   parch     1047 non-null   float64 \n",
      " 7   ticket    1047 non-null   object  \n",
      " 8   fare      1046 non-null   float64 \n",
      " 9   cabin     232 non-null    object  \n",
      " 10  embarked  1046 non-null   category\n",
      "dtypes: category(3), float64(5), object(3)\n",
      "memory usage: 76.9+ KB\n"
     ]
    }
   ],
   "source": [
    "### FEATURE ENGINEERING - Exploration ###\n",
    "\n",
    "# View the Training Data for all Feature Engineering #\n",
    "train.info()\n"
   ]
  },
  {
   "cell_type": "code",
   "execution_count": 33,
   "id": "86aef1fb-aa3e-4871-8578-135f67944085",
   "metadata": {},
   "outputs": [
    {
     "name": "stdout",
     "output_type": "stream",
     "text": [
      "Survived:\n",
      "0.0    0.629417\n",
      "1.0    0.370583\n",
      "Name: survived, dtype: float64\n",
      "\n"
     ]
    },
    {
     "data": {
      "text/plain": [
       "[Text(0.5, 0, 'Class'), Text(0, 0.5, 'Count')]"
      ]
     },
     "execution_count": 33,
     "metadata": {},
     "output_type": "execute_result"
    },
    {
     "data": {
      "image/png": "[encoded data removed]",
      "text/plain": [
       "<Figure size 432x288 with 1 Axes>"
      ]
     },
     "metadata": {},
     "output_type": "display_data"
    }
   ],
   "source": [
    "### Survived ###\n",
    "print(\"Survived:\\n{}\\n\".format(train.survived.value_counts(normalize=True)))\n",
    "\n",
    "# Survived by PClass - \n",
    "sns.countplot(x = train['pclass'], hue=train['survived']).set(xlabel=\"Class\", ylabel=\"Count\")"
   ]
  },
  {
   "cell_type": "code",
   "execution_count": 34,
   "id": "a8e9d302-f18a-478c-a1ed-ee296965e75b",
   "metadata": {},
   "outputs": [
    {
     "data": {
      "text/plain": [
       "199     Mayne, Mlle. Berthe Antonine (\"Mrs de Villiers\")\n",
       "303                             Warren, Mr. Frank Manley\n",
       "481    Laroche, Mrs. Joseph (Juliette Marie Louise La...\n",
       "331                             Bailey, Mr. Percy Andrew\n",
       "10                                Astor, Col. John Jacob\n",
       "Name: name, dtype: object"
      ]
     },
     "execution_count": 34,
     "metadata": {},
     "output_type": "execute_result"
    }
   ],
   "source": [
    "train['name'].head()"
   ]
  },
  {
   "cell_type": "code",
   "execution_count": 35,
   "id": "2fb101b2-30f8-4b0a-8b02-ccf7154479ab",
   "metadata": {
    "tags": []
   },
   "outputs": [
    {
     "data": {
      "text/plain": [
       "Mr.          607\n",
       "Miss.        214\n",
       "Mrs.         149\n",
       "Master.       47\n",
       "Dr.            8\n",
       "Rev.           7\n",
       "Col.           4\n",
       "Mlle.          2\n",
       "Ms.            2\n",
       "Don.           1\n",
       "Major.         1\n",
       "nan            1\n",
       "Sir.           1\n",
       "Jonkheer.      1\n",
       "Lady.          1\n",
       "the            1\n",
       "Mme.           1\n",
       "Name: name_title, dtype: int64"
      ]
     },
     "execution_count": 35,
     "metadata": {},
     "output_type": "execute_result"
    }
   ],
   "source": [
    "### NAME ###\n",
    "train['name'] = pd.Series(train['name'], dtype=\"string\")\n",
    "\n",
    "train['name_title'] = train['name'].apply(lambda x: x.split(',')[-1]).apply(lambda x: x.split()[0])\n",
    "train['name_title'].value_counts()"
   ]
  },
  {
   "cell_type": "code",
   "execution_count": 36,
   "id": "fc7c9f48-8da4-4edb-b483-4efb3906c694",
   "metadata": {},
   "outputs": [
    {
     "data": {
      "text/plain": [
       "name_title\n",
       "Col.         0.500000\n",
       "Don.         0.000000\n",
       "Dr.          0.500000\n",
       "Jonkheer.    0.000000\n",
       "Lady.        1.000000\n",
       "Major.       0.000000\n",
       "Master.      0.489362\n",
       "Miss.        0.668224\n",
       "Mlle.        1.000000\n",
       "Mme.         1.000000\n",
       "Mr.          0.151565\n",
       "Mrs.         0.785235\n",
       "Ms.          0.500000\n",
       "Rev.         0.000000\n",
       "Sir.         1.000000\n",
       "nan               NaN\n",
       "the          1.000000\n",
       "Name: survived, dtype: float64"
      ]
     },
     "execution_count": 36,
     "metadata": {},
     "output_type": "execute_result"
    }
   ],
   "source": [
    "train['survived'].groupby(train['name_title']).mean()"
   ]
  },
  {
   "cell_type": "code",
   "execution_count": 40,
   "id": "895d94bc-03c6-4ecf-b677-17af5a87b2f4",
   "metadata": {},
   "outputs": [
    {
     "data": {
      "text/plain": [
       "name_len\n",
       "(2.999, 19.0]    0.197479\n",
       "(19.0, 23.0]     0.287234\n",
       "(23.0, 27.0]     0.323770\n",
       "(27.0, 32.0]     0.423077\n",
       "(32.0, 82.0]     0.671795\n",
       "Name: survived, dtype: float64"
      ]
     },
     "execution_count": 40,
     "metadata": {},
     "output_type": "execute_result"
    }
   ],
   "source": [
    "# length of name\n",
    "train['name_len'] = train['name'].apply(lambda x: len(x))\n",
    "train['survived'].groupby(pd.qcut(train['name_len'],5)).mean()"
   ]
  },
  {
   "cell_type": "code",
   "execution_count": 41,
   "id": "d7e77f7a-f25e-4b8d-aff8-25ac9a5bbd9f",
   "metadata": {},
   "outputs": [
    {
     "data": {
      "text/plain": [
       "(23.0, 27.0]     244\n",
       "(2.999, 19.0]    239\n",
       "(32.0, 82.0]     195\n",
       "(19.0, 23.0]     188\n",
       "(27.0, 32.0]     182\n",
       "Name: name_len, dtype: int64"
      ]
     },
     "execution_count": 41,
     "metadata": {},
     "output_type": "execute_result"
    }
   ],
   "source": [
    "# distribution of length of name\n",
    "pd.qcut(train['name_len'],5).value_counts()"
   ]
  },
  {
   "cell_type": "code",
   "execution_count": 37,
   "id": "9eeb704d-b482-4267-9421-aa513279259b",
   "metadata": {},
   "outputs": [
    {
     "data": {
      "text/plain": [
       "sex\n",
       "female    0.719677\n",
       "male      0.178994\n",
       "Name: survived, dtype: float64"
      ]
     },
     "execution_count": 37,
     "metadata": {},
     "output_type": "execute_result"
    }
   ],
   "source": [
    "### Sex ###\n",
    "train['survived'].groupby(train['sex']).mean()"
   ]
  },
  {
   "cell_type": "code",
   "execution_count": 38,
   "id": "cb09794e-0f9d-4b45-b932-855c782d5194",
   "metadata": {},
   "outputs": [
    {
     "data": {
      "text/plain": [
       "age\n",
       "False    0.391617\n",
       "True     0.287736\n",
       "Name: survived, dtype: float64"
      ]
     },
     "execution_count": 38,
     "metadata": {},
     "output_type": "execute_result"
    }
   ],
   "source": [
    "### Age ###\n",
    "\n",
    "# Check age for missing values\n",
    "train['survived'].groupby(train['age'].isnull()).mean()\n",
    "\n",
    "# Tracks the difference bertween the survival rate of survival based on if the passenger has an age"
   ]
  },
  {
   "cell_type": "code",
   "execution_count": 39,
   "id": "defa051c-d489-4962-b7be-644fd91810ac",
   "metadata": {},
   "outputs": [
    {
     "data": {
      "text/plain": [
       "(19.0, 25.0]     184\n",
       "(0.166, 19.0]    179\n",
       "(31.0, 42.0]     168\n",
       "(42.0, 80.0]     154\n",
       "(25.0, 31.0]     150\n",
       "Name: age, dtype: int64"
      ]
     },
     "execution_count": 39,
     "metadata": {},
     "output_type": "execute_result"
    }
   ],
   "source": [
    "# Distribution of age \n",
    "pd.qcut(train['age'],5).value_counts()"
   ]
  },
  {
   "cell_type": "code",
   "execution_count": 42,
   "id": "ab90943f-eaf2-482b-935f-c9740ce5bc6d",
   "metadata": {},
   "outputs": [
    {
     "data": {
      "text/plain": [
       "age\n",
       "(0.166, 19.0]    0.441341\n",
       "(19.0, 25.0]     0.369565\n",
       "(25.0, 31.0]     0.373333\n",
       "(31.0, 42.0]     0.357143\n",
       "(42.0, 80.0]     0.415584\n",
       "Name: survived, dtype: float64"
      ]
     },
     "execution_count": 42,
     "metadata": {},
     "output_type": "execute_result"
    }
   ],
   "source": [
    "# Survived by age \n",
    "train['survived'].groupby(pd.qcut(train['age'],5)).mean()"
   ]
  },
  {
   "cell_type": "code",
   "execution_count": 43,
   "id": "144e0ed2-308c-41c1-bc35-e6e56cf2993e",
   "metadata": {},
   "outputs": [
    {
     "data": {
      "text/plain": [
       "(19.0, 25.0]     184\n",
       "(0.166, 19.0]    179\n",
       "(31.0, 42.0]     168\n",
       "(42.0, 80.0]     154\n",
       "(25.0, 31.0]     150\n",
       "Name: age, dtype: int64"
      ]
     },
     "execution_count": 43,
     "metadata": {},
     "output_type": "execute_result"
    }
   ],
   "source": [
    "# Distribution of Age\n",
    "pd.qcut(train['age'],5).value_counts()"
   ]
  },
  {
   "cell_type": "code",
   "execution_count": 44,
   "id": "a740b82c-b222-4617-9f83-3e1bfce4c506",
   "metadata": {},
   "outputs": [
    {
     "data": {
      "text/plain": [
       "sibsp\n",
       "0.0    0.335694\n",
       "1.0    0.486381\n",
       "2.0    0.486486\n",
       "3.0    0.277778\n",
       "4.0    0.157895\n",
       "5.0    0.000000\n",
       "8.0    0.000000\n",
       "Name: survived, dtype: float64"
      ]
     },
     "execution_count": 44,
     "metadata": {},
     "output_type": "execute_result"
    }
   ],
   "source": [
    "### SibSp ###\n",
    "# Number of Siblings/Spouses Aboard\n",
    "\n",
    "# Survival rage by sibling \n",
    "train['survived'].groupby(train['sibsp']).mean()"
   ]
  },
  {
   "cell_type": "code",
   "execution_count": 46,
   "id": "a6078eae-2bce-4e22-a7fc-cf0a682e6b46",
   "metadata": {},
   "outputs": [
    {
     "data": {
      "text/plain": [
       "0.0    706\n",
       "1.0    257\n",
       "2.0     37\n",
       "4.0     19\n",
       "3.0     18\n",
       "5.0      6\n",
       "8.0      4\n",
       "Name: sibsp, dtype: int64"
      ]
     },
     "execution_count": 46,
     "metadata": {},
     "output_type": "execute_result"
    }
   ],
   "source": [
    "# Num of Sib/Sp on board\n",
    "train['sibsp'].value_counts()"
   ]
  },
  {
   "cell_type": "code",
   "execution_count": 48,
   "id": "90b5c171-39e8-4283-b206-27c8fd7c9847",
   "metadata": {},
   "outputs": [
    {
     "data": {
      "text/plain": [
       "parch\n",
       "0.0    0.329657\n",
       "1.0    0.567164\n",
       "2.0    0.475000\n",
       "3.0    0.600000\n",
       "4.0    0.200000\n",
       "5.0    0.250000\n",
       "6.0    0.000000\n",
       "9.0    0.000000\n",
       "Name: survived, dtype: float64"
      ]
     },
     "execution_count": 48,
     "metadata": {},
     "output_type": "execute_result"
    }
   ],
   "source": [
    "### Parch ###\n",
    "# Number of Parents/Children Aboard\n",
    "train['survived'].groupby(train['parch']).mean()"
   ]
  },
  {
   "cell_type": "code",
   "execution_count": 49,
   "id": "29693163-b7f8-4512-974b-a9ad980f4147",
   "metadata": {},
   "outputs": [
    {
     "data": {
      "text/plain": [
       "0.0    816\n",
       "1.0    134\n",
       "2.0     80\n",
       "3.0      5\n",
       "4.0      5\n",
       "5.0      4\n",
       "9.0      2\n",
       "6.0      1\n",
       "Name: parch, dtype: int64"
      ]
     },
     "execution_count": 49,
     "metadata": {},
     "output_type": "execute_result"
    }
   ],
   "source": [
    "# Distro of Parch\n",
    "train['parch'].value_counts()"
   ]
  },
  {
   "cell_type": "code",
   "execution_count": 50,
   "id": "1ca353ea-beda-46ca-9125-e347620be25c",
   "metadata": {},
   "outputs": [
    {
     "data": {
      "text/plain": [
       "199         PC 17482\n",
       "303           110813\n",
       "481    SC/Paris 2123\n",
       "331            29108\n",
       "10          PC 17757\n",
       "147           113796\n",
       "422           233866\n",
       "415           243880\n",
       "946             1601\n",
       "351            29750\n",
       "Name: ticket, dtype: object"
      ]
     },
     "execution_count": 50,
     "metadata": {},
     "output_type": "execute_result"
    }
   ],
   "source": [
    "### Ticket ###\n",
    "train['ticket'].head(n=10)"
   ]
  },
  {
   "cell_type": "code",
   "execution_count": 54,
   "id": "b7adf08f-fdb4-4a7c-8570-87b4388a569e",
   "metadata": {},
   "outputs": [
    {
     "data": {
      "text/plain": [
       "6     481\n",
       "5     157\n",
       "4     119\n",
       "8      91\n",
       "10     51\n",
       "9      29\n",
       "7      28\n",
       "13     16\n",
       "11     15\n",
       "12     12\n",
       "17     12\n",
       "18     11\n",
       "16     11\n",
       "15     11\n",
       "3       4\n",
       "Name: ticket_len, dtype: int64"
      ]
     },
     "execution_count": 54,
     "metadata": {},
     "output_type": "execute_result"
    }
   ],
   "source": [
    "# ticket length \n",
    "# Try to derive some predictive value from the length of the ticket string\n",
    "train['ticket'] = train['ticket'].astype(str)\n",
    "train['ticket_len'] = train['ticket'].apply(lambda x: len(x))\n",
    "train['ticket_len'].value_counts()"
   ]
  },
  {
   "cell_type": "code",
   "execution_count": 55,
   "id": "372eb125-16ed-4d4c-b7d7-780ed8131827",
   "metadata": {},
   "outputs": [
    {
     "data": {
      "text/plain": [
       "3    349\n",
       "2    219\n",
       "1    170\n",
       "S     80\n",
       "P     76\n",
       "C     57\n",
       "A     36\n",
       "W     13\n",
       "7     10\n",
       "F     10\n",
       "4      9\n",
       "6      7\n",
       "L      4\n",
       "5      3\n",
       "9      2\n",
       "8      2\n",
       "n      1\n",
       "Name: ticket_lett, dtype: int64"
      ]
     },
     "execution_count": 55,
     "metadata": {},
     "output_type": "execute_result"
    }
   ],
   "source": [
    "# Ticket Letter \n",
    "# could denote the location of the room in regard to the greater ship\n",
    "train['ticket_lett'] = train['ticket'].apply(lambda x: str(x)[0])\n",
    "train['ticket_lett'].value_counts()"
   ]
  },
  {
   "cell_type": "code",
   "execution_count": 56,
   "id": "e8041a8b-51ff-44ce-bd19-7853d0c521c3",
   "metadata": {},
   "outputs": [
    {
     "data": {
      "text/plain": [
       "ticket_lett\n",
       "1    0.576471\n",
       "2    0.406393\n",
       "3    0.255014\n",
       "4    0.111111\n",
       "5    0.000000\n",
       "6    0.142857\n",
       "7    0.300000\n",
       "8    0.000000\n",
       "9    0.500000\n",
       "A    0.083333\n",
       "C    0.350877\n",
       "F    0.700000\n",
       "L    0.250000\n",
       "P    0.605263\n",
       "S    0.325000\n",
       "W    0.230769\n",
       "n         NaN\n",
       "Name: survived, dtype: float64"
      ]
     },
     "execution_count": 56,
     "metadata": {},
     "output_type": "execute_result"
    }
   ],
   "source": [
    "# survival rate by ticket letter\n",
    "train.groupby(['ticket_lett'])['survived'].mean()"
   ]
  },
  {
   "cell_type": "code",
   "execution_count": 57,
   "id": "14ec8ef2-31fe-48d6-b9f5-6726ee2ed6a4",
   "metadata": {},
   "outputs": [
    {
     "data": {
      "text/html": [
       "<div>\n",
       "<style scoped>\n",
       "    .dataframe tbody tr th:only-of-type {\n",
       "        vertical-align: middle;\n",
       "    }\n",
       "\n",
       "    .dataframe tbody tr th {\n",
       "        vertical-align: top;\n",
       "    }\n",
       "\n",
       "    .dataframe thead th {\n",
       "        text-align: right;\n",
       "    }\n",
       "</style>\n",
       "<table border=\"1\" class=\"dataframe\">\n",
       "  <thead>\n",
       "    <tr style=\"text-align: right;\">\n",
       "      <th>pclass</th>\n",
       "      <th>1</th>\n",
       "      <th>2</th>\n",
       "      <th>3</th>\n",
       "    </tr>\n",
       "    <tr>\n",
       "      <th>fare</th>\n",
       "      <th></th>\n",
       "      <th></th>\n",
       "      <th></th>\n",
       "    </tr>\n",
       "  </thead>\n",
       "  <tbody>\n",
       "    <tr>\n",
       "      <th>(-0.001, 7.85]</th>\n",
       "      <td>5</td>\n",
       "      <td>3</td>\n",
       "      <td>202</td>\n",
       "    </tr>\n",
       "    <tr>\n",
       "      <th>(7.85, 10.5]</th>\n",
       "      <td>0</td>\n",
       "      <td>26</td>\n",
       "      <td>188</td>\n",
       "    </tr>\n",
       "    <tr>\n",
       "      <th>(10.5, 22.025]</th>\n",
       "      <td>0</td>\n",
       "      <td>100</td>\n",
       "      <td>105</td>\n",
       "    </tr>\n",
       "    <tr>\n",
       "      <th>(22.025, 41.579]</th>\n",
       "      <td>74</td>\n",
       "      <td>82</td>\n",
       "      <td>53</td>\n",
       "    </tr>\n",
       "    <tr>\n",
       "      <th>(41.579, 512.329]</th>\n",
       "      <td>178</td>\n",
       "      <td>10</td>\n",
       "      <td>20</td>\n",
       "    </tr>\n",
       "  </tbody>\n",
       "</table>\n",
       "</div>"
      ],
      "text/plain": [
       "pclass               1    2    3\n",
       "fare                            \n",
       "(-0.001, 7.85]       5    3  202\n",
       "(7.85, 10.5]         0   26  188\n",
       "(10.5, 22.025]       0  100  105\n",
       "(22.025, 41.579]    74   82   53\n",
       "(41.579, 512.329]  178   10   20"
      ]
     },
     "execution_count": 57,
     "metadata": {},
     "output_type": "execute_result"
    }
   ],
   "source": [
    "### Relationship: Class - Fare ###\n",
    "pd.crosstab(pd.qcut(train['fare'], 5), columns=train['pclass'])"
   ]
  },
  {
   "cell_type": "code",
   "execution_count": 60,
   "id": "2a833f5f-6b94-4d92-866d-56aafb0e461b",
   "metadata": {},
   "outputs": [
    {
     "data": {
      "text/plain": [
       "n    816\n",
       "C     76\n",
       "B     51\n",
       "D     40\n",
       "E     28\n",
       "A     17\n",
       "F     16\n",
       "G      3\n",
       "T      1\n",
       "Name: cabin_letter, dtype: int64"
      ]
     },
     "execution_count": 60,
     "metadata": {},
     "output_type": "execute_result"
    }
   ],
   "source": [
    "### Cabin ###\n",
    "train['cabin_letter'] = train['cabin'].apply(lambda x: str(x)[0])\n",
    "train['cabin_letter'].value_counts()"
   ]
  },
  {
   "cell_type": "code",
   "execution_count": 61,
   "id": "91e6e03f-4525-4c3c-9820-260d04606dca",
   "metadata": {},
   "outputs": [
    {
     "data": {
      "text/plain": [
       "cabin_letter\n",
       "A    0.529412\n",
       "B    0.725490\n",
       "C    0.565789\n",
       "D    0.700000\n",
       "E    0.642857\n",
       "F    0.687500\n",
       "G    0.333333\n",
       "T    0.000000\n",
       "n    0.295706\n",
       "Name: survived, dtype: float64"
      ]
     },
     "execution_count": 61,
     "metadata": {},
     "output_type": "execute_result"
    }
   ],
   "source": [
    "# Survied by Cabin Letter \n",
    "train['survived'].groupby(train['cabin_letter']).mean()"
   ]
  },
  {
   "cell_type": "code",
   "execution_count": null,
   "id": "825be4f1-402b-4319-855e-8214c21f26f4",
   "metadata": {},
   "outputs": [],
   "source": []
  }
 ],
 "metadata": {
  "kernelspec": {
   "display_name": "Python 3 (ipykernel)",
   "language": "python",
   "name": "python3"
  },
  "language_info": {
   "codemirror_mode": {
    "name": "ipython",
    "version": 3
   },
   "file_extension": ".py",
   "mimetype": "text/x-python",
   "name": "python",
   "nbconvert_exporter": "python",
   "pygments_lexer": "ipython3",
   "version": "3.9.7"
  }
 },
 "nbformat": 4,
 "nbformat_minor": 5
}
